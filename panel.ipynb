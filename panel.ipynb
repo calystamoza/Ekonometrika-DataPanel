{
 "cells": [
  {
   "cell_type": "code",
   "execution_count": 1,
   "metadata": {},
   "outputs": [],
   "source": [
    "import pandas as pd\n",
    "import numpy as np \n",
    "from scipy.stats import boxcox\n",
    "from sklearn.preprocessing import StandardScaler\n",
    "import statsmodels.api as sm\n",
    "from statsmodels.stats.diagnostic import het_breuschpagan\n",
    "from linearmodels.panel import PanelOLS"
   ]
  },
  {
   "cell_type": "code",
   "execution_count": 3,
   "metadata": {},
   "outputs": [
    {
     "data": {
      "text/html": [
       "<div>\n",
       "<style scoped>\n",
       "    .dataframe tbody tr th:only-of-type {\n",
       "        vertical-align: middle;\n",
       "    }\n",
       "\n",
       "    .dataframe tbody tr th {\n",
       "        vertical-align: top;\n",
       "    }\n",
       "\n",
       "    .dataframe thead th {\n",
       "        text-align: right;\n",
       "    }\n",
       "</style>\n",
       "<table border=\"1\" class=\"dataframe\">\n",
       "  <thead>\n",
       "    <tr style=\"text-align: right;\">\n",
       "      <th></th>\n",
       "      <th>Province</th>\n",
       "      <th>Year</th>\n",
       "      <th>GRDP Capita</th>\n",
       "      <th>GRDP Employed</th>\n",
       "      <th>Health Complaint</th>\n",
       "      <th>Formal Sector</th>\n",
       "      <th>Unemployed Percent</th>\n",
       "      <th>HDI</th>\n",
       "      <th>Gov Spending</th>\n",
       "      <th>Gov CapEx</th>\n",
       "      <th>Poverty</th>\n",
       "      <th>Gini</th>\n",
       "      <th>Decent Sanitation</th>\n",
       "      <th>Clean Water</th>\n",
       "      <th>HS Graduation</th>\n",
       "      <th>Agriculture</th>\n",
       "      <th>Life Expectancy</th>\n",
       "      <th>GRDP Nominal</th>\n",
       "      <th>Population Thousand</th>\n",
       "    </tr>\n",
       "  </thead>\n",
       "  <tbody>\n",
       "    <tr>\n",
       "      <th>0</th>\n",
       "      <td>ACEH</td>\n",
       "      <td>2015</td>\n",
       "      <td>22524.31</td>\n",
       "      <td>53.990600</td>\n",
       "      <td>27.92</td>\n",
       "      <td>0.3950</td>\n",
       "      <td>8.830</td>\n",
       "      <td>69.45</td>\n",
       "      <td>37549.69</td>\n",
       "      <td>8553.03</td>\n",
       "      <td>17.095</td>\n",
       "      <td>0.3365</td>\n",
       "      <td>54.68</td>\n",
       "      <td>61.23</td>\n",
       "      <td>68.16</td>\n",
       "      <td>37598.849177</td>\n",
       "      <td>69.540</td>\n",
       "      <td>1.290927e+08</td>\n",
       "      <td>5018.7</td>\n",
       "    </tr>\n",
       "    <tr>\n",
       "      <th>1</th>\n",
       "      <td>ACEH</td>\n",
       "      <td>2016</td>\n",
       "      <td>22835.29</td>\n",
       "      <td>56.680773</td>\n",
       "      <td>25.78</td>\n",
       "      <td>0.4283</td>\n",
       "      <td>7.850</td>\n",
       "      <td>70.00</td>\n",
       "      <td>42180.53</td>\n",
       "      <td>9870.07</td>\n",
       "      <td>16.580</td>\n",
       "      <td>0.3370</td>\n",
       "      <td>62.68</td>\n",
       "      <td>63.31</td>\n",
       "      <td>74.46</td>\n",
       "      <td>40218.310849</td>\n",
       "      <td>69.565</td>\n",
       "      <td>1.368438e+08</td>\n",
       "      <td>5096.2</td>\n",
       "    </tr>\n",
       "    <tr>\n",
       "      <th>2</th>\n",
       "      <td>ACEH</td>\n",
       "      <td>2017</td>\n",
       "      <td>23362.90</td>\n",
       "      <td>56.179526</td>\n",
       "      <td>24.85</td>\n",
       "      <td>0.4042</td>\n",
       "      <td>6.980</td>\n",
       "      <td>70.60</td>\n",
       "      <td>43580.96</td>\n",
       "      <td>8920.15</td>\n",
       "      <td>16.405</td>\n",
       "      <td>0.3290</td>\n",
       "      <td>63.38</td>\n",
       "      <td>64.85</td>\n",
       "      <td>70.64</td>\n",
       "      <td>43363.354290</td>\n",
       "      <td>69.585</td>\n",
       "      <td>1.458069e+08</td>\n",
       "      <td>5189.5</td>\n",
       "    </tr>\n",
       "    <tr>\n",
       "      <th>3</th>\n",
       "      <td>ACEH</td>\n",
       "      <td>2018</td>\n",
       "      <td>24013.79</td>\n",
       "      <td>56.608468</td>\n",
       "      <td>30.18</td>\n",
       "      <td>0.4056</td>\n",
       "      <td>6.440</td>\n",
       "      <td>71.19</td>\n",
       "      <td>38767.10</td>\n",
       "      <td>6320.93</td>\n",
       "      <td>15.825</td>\n",
       "      <td>0.3215</td>\n",
       "      <td>67.09</td>\n",
       "      <td>66.48</td>\n",
       "      <td>70.68</td>\n",
       "      <td>46365.383165</td>\n",
       "      <td>69.700</td>\n",
       "      <td>1.559110e+08</td>\n",
       "      <td>5281.3</td>\n",
       "    </tr>\n",
       "    <tr>\n",
       "      <th>4</th>\n",
       "      <td>ACEH</td>\n",
       "      <td>2019</td>\n",
       "      <td>24842.30</td>\n",
       "      <td>55.897635</td>\n",
       "      <td>29.33</td>\n",
       "      <td>0.4288</td>\n",
       "      <td>5.825</td>\n",
       "      <td>71.90</td>\n",
       "      <td>45620.69</td>\n",
       "      <td>8743.71</td>\n",
       "      <td>15.165</td>\n",
       "      <td>0.3205</td>\n",
       "      <td>73.16</td>\n",
       "      <td>85.81</td>\n",
       "      <td>69.96</td>\n",
       "      <td>48438.862870</td>\n",
       "      <td>69.915</td>\n",
       "      <td>1.641630e+08</td>\n",
       "      <td>5371.5</td>\n",
       "    </tr>\n",
       "  </tbody>\n",
       "</table>\n",
       "</div>"
      ],
      "text/plain": [
       "  Province  Year  GRDP Capita  GRDP Employed  Health Complaint  Formal Sector  \\\n",
       "0     ACEH  2015     22524.31      53.990600             27.92         0.3950   \n",
       "1     ACEH  2016     22835.29      56.680773             25.78         0.4283   \n",
       "2     ACEH  2017     23362.90      56.179526             24.85         0.4042   \n",
       "3     ACEH  2018     24013.79      56.608468             30.18         0.4056   \n",
       "4     ACEH  2019     24842.30      55.897635             29.33         0.4288   \n",
       "\n",
       "   Unemployed Percent    HDI  Gov Spending  Gov CapEx  Poverty    Gini  \\\n",
       "0               8.830  69.45      37549.69    8553.03   17.095  0.3365   \n",
       "1               7.850  70.00      42180.53    9870.07   16.580  0.3370   \n",
       "2               6.980  70.60      43580.96    8920.15   16.405  0.3290   \n",
       "3               6.440  71.19      38767.10    6320.93   15.825  0.3215   \n",
       "4               5.825  71.90      45620.69    8743.71   15.165  0.3205   \n",
       "\n",
       "   Decent Sanitation  Clean Water  HS Graduation   Agriculture  \\\n",
       "0              54.68        61.23          68.16  37598.849177   \n",
       "1              62.68        63.31          74.46  40218.310849   \n",
       "2              63.38        64.85          70.64  43363.354290   \n",
       "3              67.09        66.48          70.68  46365.383165   \n",
       "4              73.16        85.81          69.96  48438.862870   \n",
       "\n",
       "   Life Expectancy  GRDP Nominal  Population Thousand  \n",
       "0           69.540  1.290927e+08               5018.7  \n",
       "1           69.565  1.368438e+08               5096.2  \n",
       "2           69.585  1.458069e+08               5189.5  \n",
       "3           69.700  1.559110e+08               5281.3  \n",
       "4           69.915  1.641630e+08               5371.5  "
      ]
     },
     "execution_count": 3,
     "metadata": {},
     "output_type": "execute_result"
    }
   ],
   "source": [
    "data = pd.read_csv(r'E:\\COOLYEAH\\smt_5\\EKT\\Ekonometrika-DataPanel\\Data\\Inclusive Growth Determinants.csv')\n",
    "data.head()"
   ]
  },
  {
   "cell_type": "code",
   "execution_count": 4,
   "metadata": {},
   "outputs": [
    {
     "name": "stdout",
     "output_type": "stream",
     "text": [
      "Province               0\n",
      "Year                   0\n",
      "GRDP Capita            0\n",
      "GRDP Employed          0\n",
      "Health Complaint       0\n",
      "Formal Sector          0\n",
      "Unemployed Percent     0\n",
      "HDI                    0\n",
      "Gov Spending           0\n",
      "Gov CapEx              0\n",
      "Poverty                0\n",
      "Gini                   0\n",
      "Decent Sanitation      0\n",
      "Clean Water            0\n",
      "HS Graduation          0\n",
      "Agriculture            0\n",
      "Life Expectancy        0\n",
      "GRDP Nominal           0\n",
      "Population Thousand    0\n",
      "dtype: int64\n"
     ]
    }
   ],
   "source": [
    "print(data.isnull().sum())  # Melihat jumlah missing values di setiap kolom"
   ]
  },
  {
   "cell_type": "code",
   "execution_count": 9,
   "metadata": {},
   "outputs": [
    {
     "name": "stdout",
     "output_type": "stream",
     "text": [
      "Index(['GRDP Capita', 'GRDP Employed', 'Health Complaint', 'Formal Sector',\n",
      "       'Unemployed Percent', 'HDI', 'Gov Spending', 'Gov CapEx', 'Poverty',\n",
      "       'Gini', 'Decent Sanitation', 'Clean Water', 'HS Graduation',\n",
      "       'Agriculture', 'Life Expectancy', 'GRDP Nominal',\n",
      "       'Population Thousand'],\n",
      "      dtype='object')\n"
     ]
    }
   ],
   "source": [
    "# Menampilkan daftar REGION untuk memastikan \"INDONESIA\" tidak ada\n",
    "print(data.columns)"
   ]
  },
  {
   "cell_type": "code",
   "execution_count": 6,
   "metadata": {},
   "outputs": [],
   "source": [
    "data = data.set_index(['Province', 'Year'])"
   ]
  },
  {
   "cell_type": "code",
   "execution_count": 32,
   "metadata": {},
   "outputs": [
    {
     "name": "stdout",
     "output_type": "stream",
     "text": [
      "Hasil Uji Breusch-Pagan:\n",
      "Lagrange multiplier statistic: 89.60315353726298\n",
      "p-value: 6.419633350792625e-15\n",
      "f-value: 13.706434023223078\n",
      "f p-value: 8.340996516368948e-19\n"
     ]
    }
   ],
   "source": [
    "# Pisahkan variabel independen (X) dan dependen (y)\n",
    "X = data[['GRDP Nominal', 'GRDP Employed', 'Formal Sector', 'HDI', 'Gov Spending', 'Gov CapEx', 'Poverty',\n",
    "       'Gini', 'Life Expectancy',\n",
    "       'Population Thousand']]\n",
    "y = data['GRDP Capita']\n",
    "\n",
    "# Tambahkan konstanta untuk model regresi\n",
    "X = sm.add_constant(X)\n",
    "\n",
    "# Regresi OLS\n",
    "model = sm.OLS(y, X).fit()\n",
    "\n",
    "# Uji Breusch-Pagan\n",
    "bp_test = het_breuschpagan(model.resid, X)\n",
    "labels = ['Lagrange multiplier statistic', 'p-value', 'f-value', 'f p-value']\n",
    "results = dict(zip(labels, bp_test))\n",
    "\n",
    "# Output hasil\n",
    "print(\"Hasil Uji Breusch-Pagan:\")\n",
    "for key, value in results.items():\n",
    "    print(f\"{key}: {value}\")"
   ]
  },
  {
   "cell_type": "code",
   "execution_count": 20,
   "metadata": {},
   "outputs": [
    {
     "name": "stdout",
     "output_type": "stream",
     "text": [
      "                            OLS Regression Results                            \n",
      "==============================================================================\n",
      "Dep. Variable:           GRDP Nominal   R-squared:                       0.937\n",
      "Model:                            OLS   Adj. R-squared:                  0.934\n",
      "Method:                 Least Squares   F-statistic:                     338.2\n",
      "Date:                Fri, 29 Nov 2024   Prob (F-statistic):          2.55e-130\n",
      "Time:                        18:00:57   Log-Likelihood:                -4824.2\n",
      "No. Observations:                 238   AIC:                             9670.\n",
      "Df Residuals:                     227   BIC:                             9709.\n",
      "Df Model:                          10                                         \n",
      "Covariance Type:            nonrobust                                         \n",
      "=======================================================================================\n",
      "                          coef    std err          t      P>|t|      [0.025      0.975]\n",
      "---------------------------------------------------------------------------------------\n",
      "const                1.563e+09   4.02e+08      3.889      0.000    7.71e+08    2.35e+09\n",
      "GRDP Capita          2.148e+04   3371.014      6.373      0.000    1.48e+04    2.81e+04\n",
      "GRDP Employed       -5.129e+06   1.56e+06     -3.288      0.001    -8.2e+06   -2.05e+06\n",
      "Formal Sector       -8.905e+08   1.93e+08     -4.626      0.000   -1.27e+09   -5.11e+08\n",
      "HDI                  3.798e+07    5.6e+06      6.783      0.000    2.69e+07     4.9e+07\n",
      "Gov Spending         8974.5267   1934.283      4.640      0.000    5163.081    1.28e+04\n",
      "Gov CapEx           -1.669e+04   7024.687     -2.377      0.018   -3.05e+04   -2852.744\n",
      "Poverty             -1.369e+07   3.14e+06     -4.359      0.000   -1.99e+07    -7.5e+06\n",
      "Gini                 1.361e+09   3.39e+08      4.011      0.000    6.92e+08    2.03e+09\n",
      "Life Expectancy     -6.662e+07   7.23e+06     -9.219      0.000   -8.09e+07   -5.24e+07\n",
      "Population Thousand  3.188e+04   3972.228      8.026      0.000    2.41e+04    3.97e+04\n",
      "==============================================================================\n",
      "Omnibus:                       11.475   Durbin-Watson:                   0.471\n",
      "Prob(Omnibus):                  0.003   Jarque-Bera (JB):               25.385\n",
      "Skew:                           0.081   Prob(JB):                     3.07e-06\n",
      "Kurtosis:                       4.592   Cond. No.                     2.44e+06\n",
      "==============================================================================\n",
      "\n",
      "Notes:\n",
      "[1] Standard Errors assume that the covariance matrix of the errors is correctly specified.\n",
      "[2] The condition number is large, 2.44e+06. This might indicate that there are\n",
      "strong multicollinearity or other numerical problems.\n"
     ]
    }
   ],
   "source": [
    "print(model.summary())"
   ]
  },
  {
   "cell_type": "code",
   "execution_count": 26,
   "metadata": {},
   "outputs": [
    {
     "name": "stdout",
     "output_type": "stream",
     "text": [
      "Lambda terbaik untuk transformasi Box-Cox: -0.5474986745375913\n",
      "               GRDP Capita  GDRP Capita_boxcox\n",
      "Province Year                                 \n",
      "ACEH     2015     22524.31            1.818928\n",
      "         2016     22835.29            1.818985\n",
      "         2017     23362.90            1.819078\n",
      "         2018     24013.79            1.819188\n",
      "         2019     24842.30            1.819323\n"
     ]
    }
   ],
   "source": [
    "# Menambahkan konstanta kecil jika ada nilai nol atau negatif\n",
    "if (data['GRDP Capita'] <= 0).any():\n",
    "    data['GRDP Capita'] += abs(data['GRDP Capita'].min()) + 1\n",
    "\n",
    "# Transformasi Box-Cox pada kolom 'salary'\n",
    "data['GDRP Capita_boxcox'], lambda_GDRP = boxcox(data['GRDP Capita'])\n",
    "\n",
    "# Menampilkan nilai lambda terbaik\n",
    "print(f\"Lambda terbaik untuk transformasi Box-Cox: {lambda_GDRP}\")\n",
    "\n",
    "# Melihat hasil transformasi\n",
    "print(data[['GRDP Capita', 'GDRP Capita_boxcox']].head())"
   ]
  },
  {
   "cell_type": "code",
   "execution_count": 43,
   "metadata": {},
   "outputs": [
    {
     "name": "stdout",
     "output_type": "stream",
     "text": [
      "Hasil Uji Breusch-Pagan:\n",
      "Lagrange multiplier statistic: 58.51852045379889\n",
      "p-value: 1.7450388532060648e-08\n",
      "f-value: 6.698683368839128\n",
      "f p-value: 1.0725168616197257e-09\n"
     ]
    }
   ],
   "source": [
    "# Pisahkan variabel independen (X) dan dependen (y)\n",
    "X = data[['GRDP Nominal', 'GRDP Employed', 'Formal Sector',\n",
    "       'Unemployed Percent', 'HDI', 'Gov Spending', 'Poverty',\n",
    "       'Gini', 'Decent Sanitation', 'Clean Water',\n",
    "\n",
    "       'Population Thousand']]\n",
    "y = data['GDRP Capita_boxcox']\n",
    "\n",
    "# Tambahkan konstanta untuk model regresi\n",
    "X = sm.add_constant(X)\n",
    "\n",
    "# Regresi OLS\n",
    "model_boxcox = sm.OLS(y, X).fit()\n",
    "\n",
    "# Uji Breusch-Pagan\n",
    "bp_test = het_breuschpagan(model_boxcox.resid, X)\n",
    "labels = ['Lagrange multiplier statistic', 'p-value', 'f-value', 'f p-value']\n",
    "results = dict(zip(labels, bp_test))\n",
    "\n",
    "# Output hasil\n",
    "print(\"Hasil Uji Breusch-Pagan:\")\n",
    "for key, value in results.items():\n",
    "    print(f\"{key}: {value}\")"
   ]
  },
  {
   "cell_type": "code",
   "execution_count": 38,
   "metadata": {},
   "outputs": [
    {
     "name": "stdout",
     "output_type": "stream",
     "text": [
      "                            OLS Regression Results                            \n",
      "==============================================================================\n",
      "Dep. Variable:     GDRP Capita_boxcox   R-squared:                       0.851\n",
      "Model:                            OLS   Adj. R-squared:                  0.842\n",
      "Method:                 Least Squares   F-statistic:                     98.35\n",
      "Date:                Fri, 29 Nov 2024   Prob (F-statistic):           8.30e-85\n",
      "Time:                        19:27:08   Log-Likelihood:                 1411.8\n",
      "No. Observations:                 238   AIC:                            -2796.\n",
      "Df Residuals:                     224   BIC:                            -2747.\n",
      "Df Model:                          13                                         \n",
      "Covariance Type:            nonrobust                                         \n",
      "=======================================================================================\n",
      "                          coef    std err          t      P>|t|      [0.025      0.975]\n",
      "---------------------------------------------------------------------------------------\n",
      "const                   1.8197      0.001   1395.762      0.000       1.817       1.822\n",
      "GRDP Nominal        -1.251e-12   2.21e-13     -5.654      0.000   -1.69e-12   -8.15e-13\n",
      "GRDP Employed        2.016e-05   1.51e-06     13.309      0.000    1.72e-05    2.31e-05\n",
      "Health Complaint    -3.797e-05   9.43e-06     -4.027      0.000   -5.66e-05   -1.94e-05\n",
      "Formal Sector           0.0046      0.001      5.066      0.000       0.003       0.006\n",
      "Unemployed Percent     -0.0001   3.35e-05     -3.736      0.000      -0.000   -5.91e-05\n",
      "HDI                 -6.146e-05   2.18e-05     -2.824      0.005      -0.000   -1.86e-05\n",
      "Gov Spending         3.379e-08    6.7e-09      5.040      0.000    2.06e-08     4.7e-08\n",
      "Poverty             -6.802e-05   1.37e-05     -4.967      0.000    -9.5e-05    -4.1e-05\n",
      "Gini                    0.0079      0.002      5.232      0.000       0.005       0.011\n",
      "Decent Sanitation    1.538e-05   5.72e-06      2.689      0.008    4.11e-06    2.67e-05\n",
      "Clean Water         -1.015e-05   5.66e-06     -1.795      0.074   -2.13e-05    9.91e-07\n",
      "Agriculture           9.39e-09   1.38e-09      6.809      0.000    6.67e-09    1.21e-08\n",
      "Population Thousand -6.131e-08    1.8e-08     -3.402      0.001   -9.68e-08   -2.58e-08\n",
      "==============================================================================\n",
      "Omnibus:                       14.958   Durbin-Watson:                   0.446\n",
      "Prob(Omnibus):                  0.001   Jarque-Bera (JB):               16.737\n",
      "Skew:                          -0.538   Prob(JB):                     0.000232\n",
      "Kurtosis:                       3.727   Cond. No.                     2.69e+10\n",
      "==============================================================================\n",
      "\n",
      "Notes:\n",
      "[1] Standard Errors assume that the covariance matrix of the errors is correctly specified.\n",
      "[2] The condition number is large, 2.69e+10. This might indicate that there are\n",
      "strong multicollinearity or other numerical problems.\n"
     ]
    }
   ],
   "source": [
    "print(model_boxcox.summary())"
   ]
  },
  {
   "cell_type": "code",
   "execution_count": null,
   "metadata": {},
   "outputs": [],
   "source": []
  },
  {
   "cell_type": "code",
   "execution_count": null,
   "metadata": {},
   "outputs": [],
   "source": []
  },
  {
   "cell_type": "code",
   "execution_count": null,
   "metadata": {},
   "outputs": [],
   "source": []
  }
 ],
 "metadata": {
  "kernelspec": {
   "display_name": "home",
   "language": "python",
   "name": "python3"
  },
  "language_info": {
   "codemirror_mode": {
    "name": "ipython",
    "version": 3
   },
   "file_extension": ".py",
   "mimetype": "text/x-python",
   "name": "python",
   "nbconvert_exporter": "python",
   "pygments_lexer": "ipython3",
   "version": "3.12.5"
  }
 },
 "nbformat": 4,
 "nbformat_minor": 2
}
