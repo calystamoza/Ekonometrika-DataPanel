{
 "cells": [
  {
   "cell_type": "code",
   "execution_count": 46,
   "metadata": {},
   "outputs": [],
   "source": [
    "import pandas as pd\n",
    "import numpy as np \n",
    "from scipy.stats import boxcox\n",
    "from sklearn.preprocessing import StandardScaler\n",
    "import statsmodels.api as sm\n",
    "from statsmodels.stats.diagnostic import het_breuschpagan\n",
    "from linearmodels.panel import PanelOLS"
   ]
  },
  {
   "cell_type": "code",
   "execution_count": 111,
   "metadata": {},
   "outputs": [
    {
     "data": {
      "text/html": [
       "<div>\n",
       "<style scoped>\n",
       "    .dataframe tbody tr th:only-of-type {\n",
       "        vertical-align: middle;\n",
       "    }\n",
       "\n",
       "    .dataframe tbody tr th {\n",
       "        vertical-align: top;\n",
       "    }\n",
       "\n",
       "    .dataframe thead th {\n",
       "        text-align: right;\n",
       "    }\n",
       "</style>\n",
       "<table border=\"1\" class=\"dataframe\">\n",
       "  <thead>\n",
       "    <tr style=\"text-align: right;\">\n",
       "      <th></th>\n",
       "      <th>REGION</th>\n",
       "      <th>YEAR</th>\n",
       "      <th>POVERTY INDEX (%)</th>\n",
       "      <th>HUMAN DEVELOPMENT INDEX</th>\n",
       "      <th>POPULATION DENSITY (KM2)</th>\n",
       "      <th>OPEN UNEMPLOYMENT RATE (%)</th>\n",
       "      <th>HIGH SCHOOL EDUCATION LEVEL (%)</th>\n",
       "      <th>GRDP (RP)</th>\n",
       "      <th>SALARY (RP)</th>\n",
       "    </tr>\n",
       "  </thead>\n",
       "  <tbody>\n",
       "    <tr>\n",
       "      <th>0</th>\n",
       "      <td>ACEH</td>\n",
       "      <td>2016</td>\n",
       "      <td>3.270</td>\n",
       "      <td>70.00</td>\n",
       "      <td>88</td>\n",
       "      <td>7.850</td>\n",
       "      <td>74.46</td>\n",
       "      <td>116374.299885</td>\n",
       "      <td>2118500</td>\n",
       "    </tr>\n",
       "    <tr>\n",
       "      <th>1</th>\n",
       "      <td>ACEH</td>\n",
       "      <td>2017</td>\n",
       "      <td>2.950</td>\n",
       "      <td>70.60</td>\n",
       "      <td>90</td>\n",
       "      <td>6.980</td>\n",
       "      <td>70.64</td>\n",
       "      <td>121240.978718</td>\n",
       "      <td>2500000</td>\n",
       "    </tr>\n",
       "    <tr>\n",
       "      <th>2</th>\n",
       "      <td>ACEH</td>\n",
       "      <td>2018</td>\n",
       "      <td>2.825</td>\n",
       "      <td>71.19</td>\n",
       "      <td>91</td>\n",
       "      <td>6.440</td>\n",
       "      <td>70.68</td>\n",
       "      <td>126824.365236</td>\n",
       "      <td>2700000</td>\n",
       "    </tr>\n",
       "    <tr>\n",
       "      <th>3</th>\n",
       "      <td>ACEH</td>\n",
       "      <td>2019</td>\n",
       "      <td>2.610</td>\n",
       "      <td>71.90</td>\n",
       "      <td>93</td>\n",
       "      <td>5.825</td>\n",
       "      <td>69.96</td>\n",
       "      <td>132069.620798</td>\n",
       "      <td>2916810</td>\n",
       "    </tr>\n",
       "    <tr>\n",
       "      <th>4</th>\n",
       "      <td>ACEH</td>\n",
       "      <td>2020</td>\n",
       "      <td>2.785</td>\n",
       "      <td>71.99</td>\n",
       "      <td>91</td>\n",
       "      <td>5.995</td>\n",
       "      <td>70.07</td>\n",
       "      <td>131580.967158</td>\n",
       "      <td>3165031</td>\n",
       "    </tr>\n",
       "    <tr>\n",
       "      <th>5</th>\n",
       "      <td>ACEH</td>\n",
       "      <td>2021</td>\n",
       "      <td>2.905</td>\n",
       "      <td>72.18</td>\n",
       "      <td>92</td>\n",
       "      <td>6.300</td>\n",
       "      <td>74.36</td>\n",
       "      <td>135274.039296</td>\n",
       "      <td>3165031</td>\n",
       "    </tr>\n",
       "    <tr>\n",
       "      <th>6</th>\n",
       "      <td>ACEH</td>\n",
       "      <td>2022</td>\n",
       "      <td>2.695</td>\n",
       "      <td>72.80</td>\n",
       "      <td>95</td>\n",
       "      <td>6.070</td>\n",
       "      <td>70.67</td>\n",
       "      <td>140971.715367</td>\n",
       "      <td>3166460</td>\n",
       "    </tr>\n",
       "    <tr>\n",
       "      <th>7</th>\n",
       "      <td>BALI</td>\n",
       "      <td>2016</td>\n",
       "      <td>0.520</td>\n",
       "      <td>73.65</td>\n",
       "      <td>727</td>\n",
       "      <td>2.005</td>\n",
       "      <td>73.65</td>\n",
       "      <td>137296.445217</td>\n",
       "      <td>1807600</td>\n",
       "    </tr>\n",
       "    <tr>\n",
       "      <th>8</th>\n",
       "      <td>BALI</td>\n",
       "      <td>2017</td>\n",
       "      <td>0.615</td>\n",
       "      <td>74.30</td>\n",
       "      <td>735</td>\n",
       "      <td>1.380</td>\n",
       "      <td>74.62</td>\n",
       "      <td>144933.312013</td>\n",
       "      <td>1956727</td>\n",
       "    </tr>\n",
       "    <tr>\n",
       "      <th>9</th>\n",
       "      <td>BALI</td>\n",
       "      <td>2018</td>\n",
       "      <td>0.605</td>\n",
       "      <td>74.77</td>\n",
       "      <td>743</td>\n",
       "      <td>1.140</td>\n",
       "      <td>78.67</td>\n",
       "      <td>154072.662607</td>\n",
       "      <td>2127157</td>\n",
       "    </tr>\n",
       "  </tbody>\n",
       "</table>\n",
       "</div>"
      ],
      "text/plain": [
       "  REGION  YEAR  POVERTY INDEX (%)  HUMAN DEVELOPMENT INDEX  \\\n",
       "0   ACEH  2016              3.270                    70.00   \n",
       "1   ACEH  2017              2.950                    70.60   \n",
       "2   ACEH  2018              2.825                    71.19   \n",
       "3   ACEH  2019              2.610                    71.90   \n",
       "4   ACEH  2020              2.785                    71.99   \n",
       "5   ACEH  2021              2.905                    72.18   \n",
       "6   ACEH  2022              2.695                    72.80   \n",
       "7   BALI  2016              0.520                    73.65   \n",
       "8   BALI  2017              0.615                    74.30   \n",
       "9   BALI  2018              0.605                    74.77   \n",
       "\n",
       "   POPULATION DENSITY (KM2)  OPEN UNEMPLOYMENT RATE (%)  \\\n",
       "0                        88                       7.850   \n",
       "1                        90                       6.980   \n",
       "2                        91                       6.440   \n",
       "3                        93                       5.825   \n",
       "4                        91                       5.995   \n",
       "5                        92                       6.300   \n",
       "6                        95                       6.070   \n",
       "7                       727                       2.005   \n",
       "8                       735                       1.380   \n",
       "9                       743                       1.140   \n",
       "\n",
       "   HIGH SCHOOL EDUCATION LEVEL (%)      GRDP (RP)  SALARY (RP)  \n",
       "0                            74.46  116374.299885      2118500  \n",
       "1                            70.64  121240.978718      2500000  \n",
       "2                            70.68  126824.365236      2700000  \n",
       "3                            69.96  132069.620798      2916810  \n",
       "4                            70.07  131580.967158      3165031  \n",
       "5                            74.36  135274.039296      3165031  \n",
       "6                            70.67  140971.715367      3166460  \n",
       "7                            73.65  137296.445217      1807600  \n",
       "8                            74.62  144933.312013      1956727  \n",
       "9                            78.67  154072.662607      2127157  "
      ]
     },
     "execution_count": 111,
     "metadata": {},
     "output_type": "execute_result"
    }
   ],
   "source": [
    "data = pd.read_csv(r'E:\\COOLYEAH\\smt_5\\EKT\\Ekonometrika-DataPanel\\Data\\Indonesian Salary Panel.csv')\n",
    "\n",
    "data.head(10)"
   ]
  },
  {
   "cell_type": "code",
   "execution_count": 109,
   "metadata": {},
   "outputs": [
    {
     "name": "stdout",
     "output_type": "stream",
     "text": [
      "<class 'pandas.core.frame.DataFrame'>\n",
      "RangeIndex: 245 entries, 0 to 244\n",
      "Data columns (total 9 columns):\n",
      " #   Column                           Non-Null Count  Dtype  \n",
      "---  ------                           --------------  -----  \n",
      " 0   REGION                           245 non-null    object \n",
      " 1   YEAR                             245 non-null    int64  \n",
      " 2   POVERTY INDEX (%)                245 non-null    float64\n",
      " 3   HUMAN DEVELOPMENT INDEX          245 non-null    float64\n",
      " 4   POPULATION DENSITY (KM2)         245 non-null    int64  \n",
      " 5   OPEN UNEMPLOYMENT RATE (%)       245 non-null    float64\n",
      " 6   HIGH SCHOOL EDUCATION LEVEL (%)  245 non-null    float64\n",
      " 7   GRDP (RP)                        238 non-null    float64\n",
      " 8   SALARY (RP)                      245 non-null    int64  \n",
      "dtypes: float64(5), int64(3), object(1)\n",
      "memory usage: 17.4+ KB\n"
     ]
    }
   ],
   "source": [
    "data.info()"
   ]
  },
  {
   "cell_type": "code",
   "execution_count": 110,
   "metadata": {},
   "outputs": [
    {
     "data": {
      "text/plain": [
       "Index(['REGION', 'YEAR', 'POVERTY INDEX (%)', 'HUMAN DEVELOPMENT INDEX',\n",
       "       'POPULATION DENSITY (KM2)', 'OPEN UNEMPLOYMENT RATE (%)',\n",
       "       'HIGH SCHOOL EDUCATION LEVEL (%)', 'GRDP (RP)', 'SALARY (RP)'],\n",
       "      dtype='object')"
      ]
     },
     "execution_count": 110,
     "metadata": {},
     "output_type": "execute_result"
    }
   ],
   "source": [
    "data.columns"
   ]
  },
  {
   "cell_type": "markdown",
   "metadata": {},
   "source": [
    "#### Pre-Processing"
   ]
  },
  {
   "cell_type": "code",
   "execution_count": 79,
   "metadata": {},
   "outputs": [
    {
     "name": "stdout",
     "output_type": "stream",
     "text": [
      "REGION                             0\n",
      "YEAR                               0\n",
      "POVERTY INDEX (%)                  0\n",
      "HUMAN DEVELOPMENT INDEX            0\n",
      "POPULATION DENSITY (KM2)           0\n",
      "OPEN UNEMPLOYMENT RATE (%)         0\n",
      "HIGH SCHOOL EDUCATION LEVEL (%)    0\n",
      "GRDP (RP)                          7\n",
      "SALARY (RP)                        0\n",
      "dtype: int64\n"
     ]
    }
   ],
   "source": [
    "print(data.isnull().sum())  # Melihat jumlah missing values di setiap kolom"
   ]
  },
  {
   "cell_type": "code",
   "execution_count": 80,
   "metadata": {},
   "outputs": [
    {
     "name": "stdout",
     "output_type": "stream",
     "text": [
      "Index(['REGION', 'YEAR', 'POVERTY INDEX (%)', 'HUMAN DEVELOPMENT INDEX',\n",
      "       'POPULATION DENSITY (KM2)', 'OPEN UNEMPLOYMENT RATE (%)',\n",
      "       'HIGH SCHOOL EDUCATION LEVEL (%)', 'GRDP (RP)', 'SALARY (RP)'],\n",
      "      dtype='object')\n"
     ]
    }
   ],
   "source": [
    "print(data.columns)"
   ]
  },
  {
   "cell_type": "code",
   "execution_count": 81,
   "metadata": {},
   "outputs": [],
   "source": [
    "data.fillna(data.mean(numeric_only=True), inplace=True)\n",
    "  # Mengisi missing values dengan rata-rata"
   ]
  },
  {
   "cell_type": "markdown",
   "metadata": {},
   "source": [
    "scaler = StandardScaler()'POVERTY INDEX (%)', 'HUMAN DEVELOPMENT INDEX', 'POPULATION DENSITY (KM2)', \n",
    "                    'OPEN UNEMPLOYMENT RATE (%)', 'HIGH SCHOOL EDUCATION LEVEL (%)', 'GRDP (RP)', 'SALARY (RP)'\n",
    "columns_to_scale = []\n",
    "data[columns_to_scale] = scaler.fit_transform(data[columns_to_scale])"
   ]
  },
  {
   "cell_type": "code",
   "execution_count": 112,
   "metadata": {},
   "outputs": [
    {
     "name": "stdout",
     "output_type": "stream",
     "text": [
      "['ACEH' 'BALI' 'BANTEN' 'BENGKULU' 'DI YOGYAKARTA' 'DKI JAKARTA'\n",
      " 'GORONTALO' 'JAMBI' 'JAWA BARAT' 'JAWA TENGAH' 'JAWA TIMUR'\n",
      " 'KALIMANTAN BARAT' 'KALIMANTAN SELATAN' 'KALIMANTAN TENGAH'\n",
      " 'KALIMANTAN TIMUR' 'KALIMANTAN UTARA' 'KEP. BANGKA BELITUNG' 'KEP. RIAU'\n",
      " 'LAMPUNG' 'MALUKU' 'MALUKU UTARA' 'NUSA TENGGARA BARAT'\n",
      " 'NUSA TENGGARA TIMUR' 'PAPUA' 'PAPUA BARAT' 'RIAU' 'SULAWESI BARAT'\n",
      " 'SULAWESI SELATAN' 'SULAWESI TENGAH' 'SULAWESI TENGGARA' 'SULAWESI UTARA'\n",
      " 'SUMATERA BARAT' 'SUMATERA SELATAN' 'SUMATERA UTARA']\n"
     ]
    }
   ],
   "source": [
    "# Menghapus baris dengan REGION == 'INDONESIA'\n",
    "data = data[data['REGION'] != 'INDONESIA']\n",
    "\n",
    "# Menampilkan daftar REGION untuk memastikan \"INDONESIA\" tidak ada\n",
    "print(data['REGION'].unique())  "
   ]
  },
  {
   "cell_type": "code",
   "execution_count": 114,
   "metadata": {},
   "outputs": [
    {
     "name": "stdout",
     "output_type": "stream",
     "text": [
      "REGION                             0\n",
      "YEAR                               0\n",
      "POVERTY INDEX (%)                  0\n",
      "HUMAN DEVELOPMENT INDEX            0\n",
      "POPULATION DENSITY (KM2)           0\n",
      "OPEN UNEMPLOYMENT RATE (%)         0\n",
      "HIGH SCHOOL EDUCATION LEVEL (%)    0\n",
      "GRDP (RP)                          0\n",
      "SALARY (RP)                        0\n",
      "dtype: int64\n"
     ]
    }
   ],
   "source": [
    "print(data.isnull().sum())"
   ]
  },
  {
   "cell_type": "code",
   "execution_count": 85,
   "metadata": {},
   "outputs": [
    {
     "name": "stdout",
     "output_type": "stream",
     "text": [
      "                            OLS Regression Results                            \n",
      "==============================================================================\n",
      "Dep. Variable:            SALARY (RP)   R-squared:                       0.282\n",
      "Model:                            OLS   Adj. R-squared:                  0.264\n",
      "Method:                 Least Squares   F-statistic:                     15.13\n",
      "Date:                Fri, 29 Nov 2024   Prob (F-statistic):           1.34e-14\n",
      "Time:                        23:13:25   Log-Likelihood:                -3462.5\n",
      "No. Observations:                 238   AIC:                             6939.\n",
      "Df Residuals:                     231   BIC:                             6963.\n",
      "Df Model:                           6                                         \n",
      "Covariance Type:            nonrobust                                         \n",
      "===================================================================================================\n",
      "                                      coef    std err          t      P>|t|      [0.025      0.975]\n",
      "---------------------------------------------------------------------------------------------------\n",
      "const                            1.483e+06   1.22e+06      1.215      0.225   -9.21e+05    3.89e+06\n",
      "POVERTY INDEX (%)                2.365e+04   3.31e+04      0.714      0.476   -4.16e+04    8.89e+04\n",
      "HUMAN DEVELOPMENT INDEX           1.22e+04   2.03e+04      0.601      0.549   -2.78e+04    5.22e+04\n",
      "POPULATION DENSITY (KM2)          143.5131     17.562      8.172      0.000     108.912     178.114\n",
      "OPEN UNEMPLOYMENT RATE (%)       9.053e+04   2.28e+04      3.977      0.000    4.57e+04    1.35e+05\n",
      "HIGH SCHOOL EDUCATION LEVEL (%) -5577.6431   5917.605     -0.943      0.347   -1.72e+04    6081.735\n",
      "GRDP (RP)                          -0.6727      0.108     -6.204      0.000      -0.886      -0.459\n",
      "==============================================================================\n",
      "Omnibus:                        5.834   Durbin-Watson:                   0.859\n",
      "Prob(Omnibus):                  0.054   Jarque-Bera (JB):                5.773\n",
      "Skew:                          -0.292   Prob(JB):                       0.0558\n",
      "Kurtosis:                       3.490   Cond. No.                     2.01e+07\n",
      "==============================================================================\n",
      "\n",
      "Notes:\n",
      "[1] Standard Errors assume that the covariance matrix of the errors is correctly specified.\n",
      "[2] The condition number is large, 2.01e+07. This might indicate that there are\n",
      "strong multicollinearity or other numerical problems.\n"
     ]
    }
   ],
   "source": [
    "# Definisikan variabel independen (X) dan dependen (y)\n",
    "X = data[['POVERTY INDEX (%)', 'HUMAN DEVELOPMENT INDEX', \n",
    "        'POPULATION DENSITY (KM2)', 'OPEN UNEMPLOYMENT RATE (%)', \n",
    "        'HIGH SCHOOL EDUCATION LEVEL (%)', 'GRDP (RP)']]\n",
    "y = data['SALARY (RP)']\n",
    "\n",
    "# Tambahkan konstanta ke X\n",
    "X = sm.add_constant(X)\n",
    "\n",
    "# Model Pooled OLS\n",
    "pooled_ols_model = sm.OLS(y, X).fit()\n",
    "\n",
    "# Tampilkan hasil\n",
    "print(pooled_ols_model.summary())"
   ]
  },
  {
   "cell_type": "code",
   "execution_count": 61,
   "metadata": {},
   "outputs": [
    {
     "name": "stdout",
     "output_type": "stream",
     "text": [
      "                          PanelOLS Estimation Summary                           \n",
      "================================================================================\n",
      "Dep. Variable:       Q('SALARY (RP)')   R-squared:                        0.7138\n",
      "Estimator:                   PanelOLS   R-squared (Between):             -91.419\n",
      "No. Observations:                 238   R-squared (Within):               0.7138\n",
      "Date:                Fri, Nov 29 2024   R-squared (Overall):             -89.513\n",
      "Time:                        22:54:37   Log-likelihood                   -3230.0\n",
      "Cov. Estimator:            Unadjusted                                           \n",
      "                                        F-statistic:                      82.316\n",
      "Entities:                          34   P-value                           0.0000\n",
      "Avg Obs:                       7.0000   Distribution:                   F(6,198)\n",
      "Min Obs:                       7.0000                                           \n",
      "Max Obs:                       7.0000   F-statistic (robust):             82.316\n",
      "                                        P-value                           0.0000\n",
      "Time periods:                       7   Distribution:                   F(6,198)\n",
      "Avg Obs:                       34.000                                           \n",
      "Min Obs:                       34.000                                           \n",
      "Max Obs:                       34.000                                           \n",
      "                                                                                \n",
      "                                          Parameter Estimates                                           \n",
      "========================================================================================================\n",
      "                                      Parameter  Std. Err.     T-stat    P-value    Lower CI    Upper CI\n",
      "--------------------------------------------------------------------------------------------------------\n",
      "Q('POVERTY INDEX (%)')                7.737e+04  7.148e+04     1.0824     0.2804  -6.359e+04   2.183e+05\n",
      "Q('HUMAN DEVELOPMENT INDEX')          3.388e+05  2.069e+04     16.375     0.0000    2.98e+05   3.796e+05\n",
      "Q('POPULATION DENSITY (KM2)')            1858.1     483.89     3.8399     0.0002      903.87      2812.4\n",
      "Q('OPEN UNEMPLOYMENT RATE (%)')      -1.656e+04  2.606e+04    -0.6353     0.5260  -6.795e+04   3.484e+04\n",
      "Q('HIGH SCHOOL EDUCATION LEVEL (%)')     5697.9     3917.7     1.4544     0.1474     -2027.8   1.342e+04\n",
      "Q('GRDP (RP)')                          -1.5163     0.5591    -2.7123     0.0073     -2.6188     -0.4138\n",
      "========================================================================================================\n",
      "\n",
      "F-test for Poolability: 36.330\n",
      "P-value: 0.0000\n",
      "Distribution: F(33,198)\n",
      "\n",
      "Included effects: Entity\n"
     ]
    }
   ],
   "source": [
    "# Model Fixed Effect (FE) dengan Entity Effects\n",
    "model_fe = PanelOLS.from_formula('Q(\"SALARY (RP)\") ~ Q(\"POVERTY INDEX (%)\") + Q(\"HUMAN DEVELOPMENT INDEX\") + Q(\"POPULATION DENSITY (KM2)\") + Q(\"OPEN UNEMPLOYMENT RATE (%)\") + Q(\"HIGH SCHOOL EDUCATION LEVEL (%)\") + Q(\"GRDP (RP)\") + EntityEffects', data=data)\n",
    "res_fe = model_fe.fit()\n",
    "\n",
    "# Summary\n",
    "print(res_fe.summary)"
   ]
  },
  {
   "cell_type": "code",
   "execution_count": 87,
   "metadata": {},
   "outputs": [
    {
     "name": "stdout",
     "output_type": "stream",
     "text": [
      "F-statistic: 36.14681283127712\n",
      "P-value: 1.1102230246251565e-16\n"
     ]
    }
   ],
   "source": [
    "# Residual Sum of Squares (RSS) untuk Common Effect\n",
    "rss_ce = pooled_ols_model.ssr  # Sudah tersedia untuk model OLS\n",
    "\n",
    "# Residual Sum of Squares (RSS) untuk Fixed Effect (Manual Calculation)\n",
    "residuals_fe = model_fe.resids  # Residual dari model Fixed Effect\n",
    "rss_fe = sum(residuals_fe**2)  # RSS adalah jumlah kuadrat residual\n",
    "\n",
    "# Chow Test (Manual Calculation)\n",
    "n = data.shape[0]  # Jumlah observasi\n",
    "k = X.shape[1]     # Jumlah parameter\n",
    "g = data.index.get_level_values('REGION').nunique()  # Jumlah grup (REGION)\n",
    "\n",
    "numerator = (rss_ce - rss_fe) / (g - 1)\n",
    "denominator = rss_fe / (n - g - k)\n",
    "f_stat = numerator / denominator\n",
    "\n",
    "# Tentukan p-value\n",
    "from scipy.stats import f\n",
    "p_value = 1 - f.cdf(f_stat, g - 1, n - g - k)\n",
    "\n",
    "print(f\"F-statistic: {f_stat}\")\n",
    "print(f\"P-value: {p_value}\")"
   ]
  },
  {
   "cell_type": "code",
   "execution_count": null,
   "metadata": {},
   "outputs": [
    {
     "name": "stdout",
     "output_type": "stream",
     "text": [
      "Hausman Test Statistic: -32.557730243309095\n",
      "P-value: 1.0\n"
     ]
    }
   ],
   "source": [
    "from linearmodels.panel import RandomEffects\n",
    "\n",
    "# Random Effect Model\n",
    "model_re = RandomEffects(y, X).fit()\n",
    "\n",
    "# Estimasi parameter (beta) dan varians kovarians dari kedua model\n",
    "beta_fe = model_fe.params  # Koefisien Fixed Effect\n",
    "beta_re = model_re.params  # Koefisien Random Effect\n",
    "cov_fe = model_fe.cov  # Varians-kovarians Fixed Effect\n",
    "cov_re = model_re.cov  # Varians-kovarians Random Effect\n",
    "\n",
    "# Hitung statistik Hausman\n",
    "diff = beta_fe - beta_re\n",
    "cov_diff = cov_fe - cov_re\n",
    "hausman_stat = diff.T @ np.linalg.inv(cov_diff) @ diff\n",
    "p_value_hausman = 1 - f.cdf(hausman_stat, len(diff), len(diff))\n",
    "\n",
    "print(f\"Hausman Test Statistic: {hausman_stat}\")\n",
    "print(f\"P-value: {p_value_hausman}\")"
   ]
  },
  {
   "cell_type": "code",
   "execution_count": 90,
   "metadata": {},
   "outputs": [
    {
     "name": "stdout",
     "output_type": "stream",
     "text": [
      "                        RandomEffects Estimation Summary                        \n",
      "================================================================================\n",
      "Dep. Variable:            SALARY (RP)   R-squared:                        0.4111\n",
      "Estimator:              RandomEffects   R-squared (Between):             -1.7966\n",
      "No. Observations:                 238   R-squared (Within):               0.5867\n",
      "Date:                Fri, Nov 29 2024   R-squared (Overall):             -0.9492\n",
      "Time:                        23:31:12   Log-likelihood                   -3324.9\n",
      "Cov. Estimator:            Unadjusted                                           \n",
      "                                        F-statistic:                      26.877\n",
      "Entities:                          34   P-value                           0.0000\n",
      "Avg Obs:                       7.0000   Distribution:                   F(6,231)\n",
      "Min Obs:                       7.0000                                           \n",
      "Max Obs:                       7.0000   F-statistic (robust):             26.877\n",
      "                                        P-value                           0.0000\n",
      "Time periods:                       7   Distribution:                   F(6,231)\n",
      "Avg Obs:                       34.000                                           \n",
      "Min Obs:                       34.000                                           \n",
      "Max Obs:                       34.000                                           \n",
      "                                                                                \n",
      "                                        Parameter Estimates                                        \n",
      "===================================================================================================\n",
      "                                 Parameter  Std. Err.     T-stat    P-value    Lower CI    Upper CI\n",
      "---------------------------------------------------------------------------------------------------\n",
      "const                           -1.488e+07  1.556e+06    -9.5628     0.0000  -1.794e+07  -1.181e+07\n",
      "POVERTY INDEX (%)                2.414e+05  6.253e+04     3.8607     0.0001   1.182e+05   3.646e+05\n",
      "HUMAN DEVELOPMENT INDEX          2.412e+05  2.296e+04     10.504     0.0000   1.959e+05   2.864e+05\n",
      "POPULATION DENSITY (KM2)           -20.662     42.417    -0.4871     0.6266     -104.24      62.912\n",
      "OPEN UNEMPLOYMENT RATE (%)          5042.0  3.077e+04     0.1639     0.8700  -5.558e+04   6.566e+04\n",
      "HIGH SCHOOL EDUCATION LEVEL (%)    -2334.4     4967.4    -0.4699     0.6388  -1.212e+04      7452.9\n",
      "GRDP (RP)                          -0.3443     0.2454    -1.4032     0.1619     -0.8277      0.1391\n",
      "===================================================================================================\n"
     ]
    }
   ],
   "source": [
    "# Random Effect Model (Final Estimation)\n",
    "model_re = RandomEffects(y, X).fit()\n",
    "\n",
    "# Tampilkan ringkasan hasil\n",
    "print(model_re.summary)"
   ]
  },
  {
   "cell_type": "code",
   "execution_count": 97,
   "metadata": {},
   "outputs": [
    {
     "name": "stdout",
     "output_type": "stream",
     "text": [
      "Breusch-Pagan Test Statistic: 9.196128491545556\n",
      "P-value: 0.16284467940526554\n"
     ]
    }
   ],
   "source": [
    "import numpy as np\n",
    "from statsmodels.stats.diagnostic import het_breuschpagan\n",
    "\n",
    "# Ambil residuals dari model yang sudah dilatih\n",
    "residuals = model_fe.resids.values  # Konversi residual ke numpy array\n",
    "\n",
    "# Gunakan variabel X yang sama seperti sebelumnya\n",
    "# Misalnya, jika 'X' adalah DataFrame atau numpy array yang berisi variabel independen\n",
    "exog_variables = X.values  # Pastikan ini adalah variabel independen yang sama digunakan di model\n",
    "\n",
    "# Uji Breusch-Pagan untuk heteroskedastisitas\n",
    "bp_test = het_breuschpagan(residuals, exog_variables)\n",
    "bp_test_statistic, bp_test_p_value = bp_test[0], bp_test[1]\n",
    "\n",
    "print(f\"Breusch-Pagan Test Statistic: {bp_test_statistic}\")\n",
    "print(f\"P-value: {bp_test_p_value}\")"
   ]
  },
  {
   "cell_type": "code",
   "execution_count": 107,
   "metadata": {},
   "outputs": [
    {
     "name": "stdout",
     "output_type": "stream",
     "text": [
      "                          PanelOLS Estimation Summary                           \n",
      "================================================================================\n",
      "Dep. Variable:       Q('SALARY (RP)')   R-squared:                        0.7079\n",
      "Estimator:                   PanelOLS   R-squared (Between):             -85.669\n",
      "No. Observations:                 238   R-squared (Within):               0.7079\n",
      "Date:                Fri, Nov 29 2024   R-squared (Overall):             -83.881\n",
      "Time:                        23:52:12   Log-likelihood                   -3232.4\n",
      "Cov. Estimator:            Unadjusted                                           \n",
      "                                        F-statistic:                      162.37\n",
      "Entities:                          34   P-value                           0.0000\n",
      "Avg Obs:                       7.0000   Distribution:                   F(3,201)\n",
      "Min Obs:                       7.0000                                           \n",
      "Max Obs:                       7.0000   F-statistic (robust):             162.37\n",
      "                                        P-value                           0.0000\n",
      "Time periods:                       7   Distribution:                   F(3,201)\n",
      "Avg Obs:                       34.000                                           \n",
      "Min Obs:                       34.000                                           \n",
      "Max Obs:                       34.000                                           \n",
      "                                                                                \n",
      "                                       Parameter Estimates                                       \n",
      "=================================================================================================\n",
      "                               Parameter  Std. Err.     T-stat    P-value    Lower CI    Upper CI\n",
      "-------------------------------------------------------------------------------------------------\n",
      "Q('HUMAN DEVELOPMENT INDEX')   3.338e+05  1.772e+04     18.837     0.0000   2.988e+05   3.687e+05\n",
      "Q('POPULATION DENSITY (KM2)')     1808.2     477.09     3.7901     0.0002      867.46      2748.9\n",
      "Q('GRDP (RP)')                   -1.2850     0.5453    -2.3563     0.0194     -2.3603     -0.2097\n",
      "=================================================================================================\n",
      "\n",
      "F-test for Poolability: 39.028\n",
      "P-value: 0.0000\n",
      "Distribution: F(33,201)\n",
      "\n",
      "Included effects: Entity\n"
     ]
    }
   ],
   "source": [
    "# Model Fixed Effect (FE) dengan Entity \n",
    "model_fe = PanelOLS.from_formula('Q(\"SALARY (RP)\") ~ Q(\"HUMAN DEVELOPMENT INDEX\") + Q(\"POPULATION DENSITY (KM2)\") + Q(\"GRDP (RP)\") + EntityEffects', data=data)\n",
    "\n",
    "res_fe = model_fe.fit()\n",
    "\n",
    "# Summary\n",
    "print(res_fe.summary)"
   ]
  }
 ],
 "metadata": {
  "kernelspec": {
   "display_name": "home",
   "language": "python",
   "name": "python3"
  },
  "language_info": {
   "codemirror_mode": {
    "name": "ipython",
    "version": 3
   },
   "file_extension": ".py",
   "mimetype": "text/x-python",
   "name": "python",
   "nbconvert_exporter": "python",
   "pygments_lexer": "ipython3",
   "version": "3.12.5"
  }
 },
 "nbformat": 4,
 "nbformat_minor": 2
}
