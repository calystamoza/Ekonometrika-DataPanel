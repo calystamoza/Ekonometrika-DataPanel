{
 "cells": [
  {
   "cell_type": "code",
   "execution_count": 59,
   "metadata": {},
   "outputs": [],
   "source": [
    "import pandas as pd\n",
    "from sklearn.preprocessing import StandardScaler\n",
    "import statsmodels.api as sm\n",
    "from statsmodels.stats.diagnostic import het_breuschpagan\n",
    "from linearmodels.panel import PanelOLS"
   ]
  },
  {
   "cell_type": "code",
   "execution_count": 67,
   "metadata": {},
   "outputs": [
    {
     "data": {
      "text/html": [
       "<div>\n",
       "<style scoped>\n",
       "    .dataframe tbody tr th:only-of-type {\n",
       "        vertical-align: middle;\n",
       "    }\n",
       "\n",
       "    .dataframe tbody tr th {\n",
       "        vertical-align: top;\n",
       "    }\n",
       "\n",
       "    .dataframe thead th {\n",
       "        text-align: right;\n",
       "    }\n",
       "</style>\n",
       "<table border=\"1\" class=\"dataframe\">\n",
       "  <thead>\n",
       "    <tr style=\"text-align: right;\">\n",
       "      <th></th>\n",
       "      <th>REGION</th>\n",
       "      <th>YEAR</th>\n",
       "      <th>POVERTY INDEX (%)</th>\n",
       "      <th>HUMAN DEVELOPMENT INDEX</th>\n",
       "      <th>POPULATION DENSITY (KM2)</th>\n",
       "      <th>OPEN UNEMPLOYMENT RATE (%)</th>\n",
       "      <th>HIGH SCHOOL EDUCATION LEVEL (%)</th>\n",
       "      <th>GRDP (RP)</th>\n",
       "      <th>SALARY (RP)</th>\n",
       "    </tr>\n",
       "  </thead>\n",
       "  <tbody>\n",
       "    <tr>\n",
       "      <th>0</th>\n",
       "      <td>ACEH</td>\n",
       "      <td>2016</td>\n",
       "      <td>3.270</td>\n",
       "      <td>70.00</td>\n",
       "      <td>88</td>\n",
       "      <td>7.850</td>\n",
       "      <td>74.46</td>\n",
       "      <td>116374.299885</td>\n",
       "      <td>2118500</td>\n",
       "    </tr>\n",
       "    <tr>\n",
       "      <th>1</th>\n",
       "      <td>ACEH</td>\n",
       "      <td>2017</td>\n",
       "      <td>2.950</td>\n",
       "      <td>70.60</td>\n",
       "      <td>90</td>\n",
       "      <td>6.980</td>\n",
       "      <td>70.64</td>\n",
       "      <td>121240.978718</td>\n",
       "      <td>2500000</td>\n",
       "    </tr>\n",
       "    <tr>\n",
       "      <th>2</th>\n",
       "      <td>ACEH</td>\n",
       "      <td>2018</td>\n",
       "      <td>2.825</td>\n",
       "      <td>71.19</td>\n",
       "      <td>91</td>\n",
       "      <td>6.440</td>\n",
       "      <td>70.68</td>\n",
       "      <td>126824.365236</td>\n",
       "      <td>2700000</td>\n",
       "    </tr>\n",
       "    <tr>\n",
       "      <th>3</th>\n",
       "      <td>ACEH</td>\n",
       "      <td>2019</td>\n",
       "      <td>2.610</td>\n",
       "      <td>71.90</td>\n",
       "      <td>93</td>\n",
       "      <td>5.825</td>\n",
       "      <td>69.96</td>\n",
       "      <td>132069.620798</td>\n",
       "      <td>2916810</td>\n",
       "    </tr>\n",
       "    <tr>\n",
       "      <th>4</th>\n",
       "      <td>ACEH</td>\n",
       "      <td>2020</td>\n",
       "      <td>2.785</td>\n",
       "      <td>71.99</td>\n",
       "      <td>91</td>\n",
       "      <td>5.995</td>\n",
       "      <td>70.07</td>\n",
       "      <td>131580.967158</td>\n",
       "      <td>3165031</td>\n",
       "    </tr>\n",
       "  </tbody>\n",
       "</table>\n",
       "</div>"
      ],
      "text/plain": [
       "  REGION  YEAR  POVERTY INDEX (%)  HUMAN DEVELOPMENT INDEX  \\\n",
       "0   ACEH  2016              3.270                    70.00   \n",
       "1   ACEH  2017              2.950                    70.60   \n",
       "2   ACEH  2018              2.825                    71.19   \n",
       "3   ACEH  2019              2.610                    71.90   \n",
       "4   ACEH  2020              2.785                    71.99   \n",
       "\n",
       "   POPULATION DENSITY (KM2)  OPEN UNEMPLOYMENT RATE (%)  \\\n",
       "0                        88                       7.850   \n",
       "1                        90                       6.980   \n",
       "2                        91                       6.440   \n",
       "3                        93                       5.825   \n",
       "4                        91                       5.995   \n",
       "\n",
       "   HIGH SCHOOL EDUCATION LEVEL (%)      GRDP (RP)  SALARY (RP)  \n",
       "0                            74.46  116374.299885      2118500  \n",
       "1                            70.64  121240.978718      2500000  \n",
       "2                            70.68  126824.365236      2700000  \n",
       "3                            69.96  132069.620798      2916810  \n",
       "4                            70.07  131580.967158      3165031  "
      ]
     },
     "execution_count": 67,
     "metadata": {},
     "output_type": "execute_result"
    }
   ],
   "source": [
    "data = pd.read_csv(r'E:\\COOLYEAH\\smt_5\\EKT\\Ekonometrika-DataPanel\\Data\\Indonesian Salary Panel.csv')\n",
    "\n",
    "data.head()"
   ]
  },
  {
   "cell_type": "markdown",
   "metadata": {},
   "source": [
    "#### Pre-Processing"
   ]
  },
  {
   "cell_type": "code",
   "execution_count": 68,
   "metadata": {},
   "outputs": [
    {
     "name": "stdout",
     "output_type": "stream",
     "text": [
      "REGION                             0\n",
      "YEAR                               0\n",
      "POVERTY INDEX (%)                  0\n",
      "HUMAN DEVELOPMENT INDEX            0\n",
      "POPULATION DENSITY (KM2)           0\n",
      "OPEN UNEMPLOYMENT RATE (%)         0\n",
      "HIGH SCHOOL EDUCATION LEVEL (%)    0\n",
      "GRDP (RP)                          7\n",
      "SALARY (RP)                        0\n",
      "dtype: int64\n"
     ]
    }
   ],
   "source": [
    "print(data.isnull().sum())  # Melihat jumlah missing values di setiap kolom"
   ]
  },
  {
   "cell_type": "code",
   "execution_count": 69,
   "metadata": {},
   "outputs": [],
   "source": [
    "data.fillna(data.mean(numeric_only=True), inplace=True)\n",
    "  # Mengisi missing values dengan rata-rata"
   ]
  },
  {
   "cell_type": "code",
   "execution_count": 70,
   "metadata": {},
   "outputs": [],
   "source": [
    "scaler = StandardScaler()\n",
    "columns_to_scale = ['POVERTY INDEX (%)', 'HUMAN DEVELOPMENT INDEX', 'POPULATION DENSITY (KM2)', \n",
    "                    'OPEN UNEMPLOYMENT RATE (%)', 'HIGH SCHOOL EDUCATION LEVEL (%)', 'GRDP (RP)', 'SALARY (RP)']\n",
    "data[columns_to_scale] = scaler.fit_transform(data[columns_to_scale])"
   ]
  },
  {
   "cell_type": "code",
   "execution_count": 71,
   "metadata": {},
   "outputs": [
    {
     "name": "stdout",
     "output_type": "stream",
     "text": [
      "['ACEH' 'BALI' 'BANTEN' 'BENGKULU' 'DI YOGYAKARTA' 'DKI JAKARTA'\n",
      " 'GORONTALO' 'JAMBI' 'JAWA BARAT' 'JAWA TENGAH' 'JAWA TIMUR'\n",
      " 'KALIMANTAN BARAT' 'KALIMANTAN SELATAN' 'KALIMANTAN TENGAH'\n",
      " 'KALIMANTAN TIMUR' 'KALIMANTAN UTARA' 'KEP. BANGKA BELITUNG' 'KEP. RIAU'\n",
      " 'LAMPUNG' 'MALUKU' 'MALUKU UTARA' 'NUSA TENGGARA BARAT'\n",
      " 'NUSA TENGGARA TIMUR' 'PAPUA' 'PAPUA BARAT' 'RIAU' 'SULAWESI BARAT'\n",
      " 'SULAWESI SELATAN' 'SULAWESI TENGAH' 'SULAWESI TENGGARA' 'SULAWESI UTARA'\n",
      " 'SUMATERA BARAT' 'SUMATERA SELATAN' 'SUMATERA UTARA']\n"
     ]
    }
   ],
   "source": [
    "# Menghapus baris dengan REGION == 'INDONESIA'\n",
    "data = data[data['REGION'] != 'INDONESIA']\n",
    "\n",
    "# Menampilkan daftar REGION untuk memastikan \"INDONESIA\" tidak ada\n",
    "print(data['REGION'].unique())  "
   ]
  },
  {
   "cell_type": "code",
   "execution_count": 72,
   "metadata": {},
   "outputs": [],
   "source": [
    "data = data.set_index(['REGION', 'YEAR'])"
   ]
  },
  {
   "cell_type": "code",
   "execution_count": 74,
   "metadata": {},
   "outputs": [
    {
     "name": "stdout",
     "output_type": "stream",
     "text": [
      "                          Variable       VIF\n",
      "0                            const  1.000587\n",
      "1                POVERTY INDEX (%)  2.054844\n",
      "2          HUMAN DEVELOPMENT INDEX  6.092083\n",
      "3         POPULATION DENSITY (KM2)  1.983853\n",
      "4       OPEN UNEMPLOYMENT RATE (%)  1.382359\n",
      "5  HIGH SCHOOL EDUCATION LEVEL (%)  3.881158\n",
      "6                        GRDP (RP)  2.124508\n"
     ]
    }
   ],
   "source": [
    "from statsmodels.stats.outliers_influence import variance_inflation_factor\n",
    "\n",
    "# Menghitung VIF untuk setiap variabel independen\n",
    "X = sm.add_constant(data[['POVERTY INDEX (%)', 'HUMAN DEVELOPMENT INDEX', 'POPULATION DENSITY (KM2)', \n",
    "                          'OPEN UNEMPLOYMENT RATE (%)', 'HIGH SCHOOL EDUCATION LEVEL (%)', 'GRDP (RP)']])\n",
    "vif = pd.DataFrame()\n",
    "vif[\"Variable\"] = X.columns\n",
    "vif[\"VIF\"] = [variance_inflation_factor(X.values, i) for i in range(X.shape[1])]\n",
    "print(vif)"
   ]
  },
  {
   "cell_type": "markdown",
   "metadata": {},
   "source": [
    "#### UJI HETEROSKEDASTISITAS \n",
    "(before transform)"
   ]
  },
  {
   "cell_type": "code",
   "execution_count": 53,
   "metadata": {},
   "outputs": [
    {
     "name": "stdout",
     "output_type": "stream",
     "text": [
      "Lagrange multiplier statistic: 18.72992436281417\n",
      "p-value: 0.004644915742334965\n",
      "f-value: 3.2886479647205173\n",
      "f p-value: 0.004003560878673151\n"
     ]
    }
   ],
   "source": [
    "# Pisahkan variabel independen (X) dan dependen (y)\n",
    "X = data[['POVERTY INDEX (%)', 'HUMAN DEVELOPMENT INDEX', 'POPULATION DENSITY (KM2)', \n",
    "          'OPEN UNEMPLOYMENT RATE (%)', 'HIGH SCHOOL EDUCATION LEVEL (%)', 'GRDP (RP)']]\n",
    "y = data['SALARY (RP)']\n",
    "\n",
    "# Tambahkan konstanta untuk model regresi\n",
    "X = sm.add_constant(X)\n",
    "\n",
    "# Lakukan regresi OLS\n",
    "model = sm.OLS(y, X).fit()\n",
    "\n",
    "# Hitung residual\n",
    "residuals = model.resid\n",
    "\n",
    "# Breusch-Pagan Test\n",
    "bp_test = het_breuschpagan(residuals, model.model.exog)\n",
    "\n",
    "# Hasil\n",
    "labels = ['Lagrange multiplier statistic', 'p-value', \n",
    "          'f-value', 'f p-value']\n",
    "for name, value in zip(labels, bp_test):\n",
    "    print(f\"{name}: {value}\")"
   ]
  },
  {
   "cell_type": "markdown",
   "metadata": {},
   "source": [
    "Berdasarkan hasil Breusch-Pagan Test, kita melihat adanya heteroskedastisitas dalam model Pooled OLS karena p-value < 0.05 (baik dari Lagrange multiplier maupun f-statistik). Artinya, asumsi homoskedastisitas (kesamaan variansi residual) tidak terpenuhi."
   ]
  },
  {
   "cell_type": "code",
   "execution_count": 54,
   "metadata": {},
   "outputs": [
    {
     "data": {
      "text/html": [
       "<div>\n",
       "<style scoped>\n",
       "    .dataframe tbody tr th:only-of-type {\n",
       "        vertical-align: middle;\n",
       "    }\n",
       "\n",
       "    .dataframe tbody tr th {\n",
       "        vertical-align: top;\n",
       "    }\n",
       "\n",
       "    .dataframe thead th {\n",
       "        text-align: right;\n",
       "    }\n",
       "</style>\n",
       "<table border=\"1\" class=\"dataframe\">\n",
       "  <thead>\n",
       "    <tr style=\"text-align: right;\">\n",
       "      <th></th>\n",
       "      <th>REGION</th>\n",
       "      <th>YEAR</th>\n",
       "      <th>POVERTY INDEX (%)</th>\n",
       "      <th>HUMAN DEVELOPMENT INDEX</th>\n",
       "      <th>POPULATION DENSITY (KM2)</th>\n",
       "      <th>OPEN UNEMPLOYMENT RATE (%)</th>\n",
       "      <th>HIGH SCHOOL EDUCATION LEVEL (%)</th>\n",
       "      <th>GRDP (RP)</th>\n",
       "      <th>SALARY (RP)</th>\n",
       "    </tr>\n",
       "  </thead>\n",
       "  <tbody>\n",
       "    <tr>\n",
       "      <th>0</th>\n",
       "      <td>ACEH</td>\n",
       "      <td>2016</td>\n",
       "      <td>0.948117</td>\n",
       "      <td>-0.177595</td>\n",
       "      <td>-0.241121</td>\n",
       "      <td>1.673422</td>\n",
       "      <td>1.122892</td>\n",
       "      <td>-0.453009</td>\n",
       "      <td>-0.462115</td>\n",
       "    </tr>\n",
       "    <tr>\n",
       "      <th>1</th>\n",
       "      <td>ACEH</td>\n",
       "      <td>2017</td>\n",
       "      <td>0.721815</td>\n",
       "      <td>-0.026595</td>\n",
       "      <td>-0.240358</td>\n",
       "      <td>1.159026</td>\n",
       "      <td>0.771971</td>\n",
       "      <td>-0.441919</td>\n",
       "      <td>0.187377</td>\n",
       "    </tr>\n",
       "    <tr>\n",
       "      <th>2</th>\n",
       "      <td>ACEH</td>\n",
       "      <td>2018</td>\n",
       "      <td>0.633415</td>\n",
       "      <td>0.121889</td>\n",
       "      <td>-0.239976</td>\n",
       "      <td>0.839746</td>\n",
       "      <td>0.775645</td>\n",
       "      <td>-0.429196</td>\n",
       "      <td>0.527870</td>\n",
       "    </tr>\n",
       "    <tr>\n",
       "      <th>3</th>\n",
       "      <td>ACEH</td>\n",
       "      <td>2019</td>\n",
       "      <td>0.481369</td>\n",
       "      <td>0.300573</td>\n",
       "      <td>-0.239213</td>\n",
       "      <td>0.476121</td>\n",
       "      <td>0.709503</td>\n",
       "      <td>-0.417244</td>\n",
       "      <td>0.896982</td>\n",
       "    </tr>\n",
       "    <tr>\n",
       "      <th>4</th>\n",
       "      <td>ACEH</td>\n",
       "      <td>2020</td>\n",
       "      <td>0.605128</td>\n",
       "      <td>0.323223</td>\n",
       "      <td>-0.239976</td>\n",
       "      <td>0.576635</td>\n",
       "      <td>0.719608</td>\n",
       "      <td>-0.418357</td>\n",
       "      <td>1.319571</td>\n",
       "    </tr>\n",
       "  </tbody>\n",
       "</table>\n",
       "</div>"
      ],
      "text/plain": [
       "  REGION  YEAR  POVERTY INDEX (%)  HUMAN DEVELOPMENT INDEX  \\\n",
       "0   ACEH  2016           0.948117                -0.177595   \n",
       "1   ACEH  2017           0.721815                -0.026595   \n",
       "2   ACEH  2018           0.633415                 0.121889   \n",
       "3   ACEH  2019           0.481369                 0.300573   \n",
       "4   ACEH  2020           0.605128                 0.323223   \n",
       "\n",
       "   POPULATION DENSITY (KM2)  OPEN UNEMPLOYMENT RATE (%)  \\\n",
       "0                 -0.241121                    1.673422   \n",
       "1                 -0.240358                    1.159026   \n",
       "2                 -0.239976                    0.839746   \n",
       "3                 -0.239213                    0.476121   \n",
       "4                 -0.239976                    0.576635   \n",
       "\n",
       "   HIGH SCHOOL EDUCATION LEVEL (%)  GRDP (RP)  SALARY (RP)  \n",
       "0                         1.122892  -0.453009    -0.462115  \n",
       "1                         0.771971  -0.441919     0.187377  \n",
       "2                         0.775645  -0.429196     0.527870  \n",
       "3                         0.709503  -0.417244     0.896982  \n",
       "4                         0.719608  -0.418357     1.319571  "
      ]
     },
     "execution_count": 54,
     "metadata": {},
     "output_type": "execute_result"
    }
   ],
   "source": [
    "data.head()"
   ]
  },
  {
   "cell_type": "code",
   "execution_count": 57,
   "metadata": {},
   "outputs": [
    {
     "name": "stdout",
     "output_type": "stream",
     "text": [
      "                          PanelOLS Estimation Summary                           \n",
      "================================================================================\n",
      "Dep. Variable:       Q('SALARY (RP)')   R-squared:                        0.2821\n",
      "Estimator:                   PanelOLS   R-squared (Between):              0.4650\n",
      "No. Observations:                 238   R-squared (Within):              -0.0494\n",
      "Date:                Fri, Nov 22 2024   R-squared (Overall):              0.2821\n",
      "Time:                        05:21:02   Log-likelihood                   -301.00\n",
      "Cov. Estimator:            Unadjusted                                           \n",
      "                                        F-statistic:                      15.132\n",
      "Entities:                          34   P-value                           0.0000\n",
      "Avg Obs:                       7.0000   Distribution:                   F(6,231)\n",
      "Min Obs:                       7.0000                                           \n",
      "Max Obs:                       7.0000   F-statistic (robust):             15.132\n",
      "                                        P-value                           0.0000\n",
      "Time periods:                       7   Distribution:                   F(6,231)\n",
      "Avg Obs:                       34.000                                           \n",
      "Min Obs:                       34.000                                           \n",
      "Max Obs:                       34.000                                           \n",
      "                                                                                \n",
      "                                          Parameter Estimates                                           \n",
      "========================================================================================================\n",
      "                                      Parameter  Std. Err.     T-stat    P-value    Lower CI    Upper CI\n",
      "--------------------------------------------------------------------------------------------------------\n",
      "Intercept                               -0.0005     0.0564    -0.0081     0.9936     -0.1116      0.1107\n",
      "Q('POVERTY INDEX (%)')                   0.0569     0.0797     0.7142     0.4758     -0.1001      0.2140\n",
      "Q('HUMAN DEVELOPMENT INDEX')             0.0825     0.1374     0.6007     0.5486     -0.1882      0.3532\n",
      "Q('POPULATION DENSITY (KM2)')            0.6402     0.0783     8.1720     0.0000      0.4858      0.7946\n",
      "Q('OPEN UNEMPLOYMENT RATE (%)')          0.2607     0.0655     3.9773     0.0001      0.1315      0.3898\n",
      "Q('HIGH SCHOOL EDUCATION LEVEL (%)')    -0.1034     0.1097    -0.9426     0.3469     -0.3194      0.1127\n",
      "Q('GRDP (RP)')                          -0.5026     0.0810    -6.2038     0.0000     -0.6622     -0.3430\n",
      "========================================================================================================\n",
      "\n",
      "\n"
     ]
    }
   ],
   "source": [
    "# Definisi model Pooled OLS\n",
    "pooled_model = PanelOLS.from_formula(\n",
    "    'Q(\"SALARY (RP)\") ~ 1 + Q(\"POVERTY INDEX (%)\") + Q(\"HUMAN DEVELOPMENT INDEX\") + Q(\"POPULATION DENSITY (KM2)\") + Q(\"OPEN UNEMPLOYMENT RATE (%)\") + Q(\"HIGH SCHOOL EDUCATION LEVEL (%)\") + Q(\"GRDP (RP)\")',\n",
    "    data=data\n",
    ")\n",
    "\n",
    "# Menjalankan estimasi model\n",
    "pooled_result = pooled_model.fit()\n",
    "print(pooled_result.summary)"
   ]
  },
  {
   "cell_type": "code",
   "execution_count": 63,
   "metadata": {},
   "outputs": [
    {
     "name": "stdout",
     "output_type": "stream",
     "text": [
      "Lagrange multiplier statistic: 18.729924362814145\n",
      "p-value: 0.00464491574233501\n",
      "F-statistic: 3.288647964720517\n",
      "F p-value: 0.004003560878673151\n"
     ]
    }
   ],
   "source": [
    "# Mengambil residu dari model Pooled OLS\n",
    "residuals = pooled_result.resids\n",
    "X = data[['POVERTY INDEX (%)', 'HUMAN DEVELOPMENT INDEX', 'POPULATION DENSITY (KM2)', \n",
    "          'OPEN UNEMPLOYMENT RATE (%)', 'HIGH SCHOOL EDUCATION LEVEL (%)', 'GRDP (RP)']]\n",
    "\n",
    "# Menambahkan konstanta\n",
    "X = sm.add_constant(X)\n",
    "\n",
    "# Uji heteroskedastisitas (Breusch-Pagan)\n",
    "bp_test = het_breuschpagan(residuals, X)\n",
    "print(f'Lagrange multiplier statistic: {bp_test[0]}')\n",
    "print(f'p-value: {bp_test[1]}')\n",
    "print(f'F-statistic: {bp_test[2]}')\n",
    "print(f'F p-value: {bp_test[3]}')"
   ]
  },
  {
   "cell_type": "code",
   "execution_count": 66,
   "metadata": {},
   "outputs": [
    {
     "name": "stdout",
     "output_type": "stream",
     "text": [
      "                          PanelOLS Estimation Summary                           \n",
      "================================================================================\n",
      "Dep. Variable:       Q('SALARY (RP)')   R-squared:                        0.2821\n",
      "Estimator:                   PanelOLS   R-squared (Between):              0.4650\n",
      "No. Observations:                 238   R-squared (Within):              -0.0494\n",
      "Date:                Fri, Nov 22 2024   R-squared (Overall):              0.2821\n",
      "Time:                        05:24:23   Log-likelihood                   -301.00\n",
      "Cov. Estimator:        Driscoll-Kraay                                           \n",
      "                                        F-statistic:                      15.132\n",
      "Entities:                          34   P-value                           0.0000\n",
      "Avg Obs:                       7.0000   Distribution:                   F(6,231)\n",
      "Min Obs:                       7.0000                                           \n",
      "Max Obs:                       7.0000   F-statistic (robust):             2064.0\n",
      "                                        P-value                           0.0000\n",
      "Time periods:                       7   Distribution:                   F(6,231)\n",
      "Avg Obs:                       34.000                                           \n",
      "Min Obs:                       34.000                                           \n",
      "Max Obs:                       34.000                                           \n",
      "                                                                                \n",
      "                                          Parameter Estimates                                           \n",
      "========================================================================================================\n",
      "                                      Parameter  Std. Err.     T-stat    P-value    Lower CI    Upper CI\n",
      "--------------------------------------------------------------------------------------------------------\n",
      "Intercept                               -0.0005     0.2812    -0.0016     0.9987     -0.5545      0.5535\n",
      "Q('POVERTY INDEX (%)')                   0.0569     0.0335     1.6969     0.0911     -0.0092      0.1230\n",
      "Q('HUMAN DEVELOPMENT INDEX')             0.0825     0.0985     0.8382     0.4028     -0.1115      0.2765\n",
      "Q('POPULATION DENSITY (KM2)')            0.6402     0.0584     10.958     0.0000      0.5251      0.7553\n",
      "Q('OPEN UNEMPLOYMENT RATE (%)')          0.2607     0.0318     8.1922     0.0000      0.1980      0.3234\n",
      "Q('HIGH SCHOOL EDUCATION LEVEL (%)')    -0.1034     0.0510    -2.0287     0.0436     -0.2038     -0.0030\n",
      "Q('GRDP (RP)')                          -0.5026     0.0318    -15.788     0.0000     -0.5653     -0.4399\n",
      "========================================================================================================\n",
      "\n",
      "\n"
     ]
    }
   ],
   "source": [
    "# Menggunakan robust standard errors untuk Pooled OLS\n",
    "pooled_model_robust = pooled_model.fit(cov_type='kernel', kernel='bartlett')\n",
    "\n",
    "# Menampilkan hasil dengan robust standard errors\n",
    "print(pooled_model_robust)\n"
   ]
  },
  {
   "cell_type": "code",
   "execution_count": 45,
   "metadata": {},
   "outputs": [
    {
     "name": "stdout",
     "output_type": "stream",
     "text": [
      "Index(['REGION', 'YEAR', 'POVERTY_INDEX', 'HUMAN_DEVELOPMENT_INDEX',\n",
      "       'POPULATION_DENSITY', 'OPEN_UNEMPLOYMENT_RATE',\n",
      "       'HIGH_SCHOOL_EDUCATION_LEVEL', 'GRDP', 'SALARY'],\n",
      "      dtype='object')\n"
     ]
    }
   ],
   "source": [
    "print(data.columns)"
   ]
  },
  {
   "cell_type": "code",
   "execution_count": null,
   "metadata": {},
   "outputs": [],
   "source": []
  }
 ],
 "metadata": {
  "kernelspec": {
   "display_name": "home",
   "language": "python",
   "name": "python3"
  },
  "language_info": {
   "codemirror_mode": {
    "name": "ipython",
    "version": 3
   },
   "file_extension": ".py",
   "mimetype": "text/x-python",
   "name": "python",
   "nbconvert_exporter": "python",
   "pygments_lexer": "ipython3",
   "version": "3.12.5"
  }
 },
 "nbformat": 4,
 "nbformat_minor": 2
}
